{
 "cells": [
  {
   "cell_type": "code",
   "execution_count": 1,
   "id": "5f399417-67bf-41c0-bb0b-c77e194c058b",
   "metadata": {},
   "outputs": [],
   "source": [
    "import xml.etree.ElementTree as ET"
   ]
  },
  {
   "cell_type": "code",
   "execution_count": 7,
   "id": "09c634bb-2a64-4854-ae7b-f0e532d2e005",
   "metadata": {},
   "outputs": [
    {
     "name": "stdout",
     "output_type": "stream",
     "text": [
      "<xml.etree.ElementTree.ElementTree object at 0x00000271DD45E540>\n"
     ]
    }
   ],
   "source": [
    "tree = ET.parse(\"ILSVRC2012_bbox_train_v2/n01440764/n01440764_10040.xml\")\n",
    "print(tree)"
   ]
  },
  {
   "cell_type": "code",
   "execution_count": 13,
   "id": "e0eaaa81-1a47-4058-82c5-0d56495ba0b3",
   "metadata": {},
   "outputs": [
    {
     "name": "stdout",
     "output_type": "stream",
     "text": [
      "<Element 'annotation' at 0x00000271E155E840>\n",
      "{}\n",
      "n01440764\n"
     ]
    }
   ],
   "source": [
    "root = tree.getroot()\n",
    "print(root)\n",
    "print(root[0].attrib)\n",
    "print(root[5][0].text)"
   ]
  }
 ],
 "metadata": {
  "kernelspec": {
   "display_name": "Python 3 (ipykernel)",
   "language": "python",
   "name": "python3"
  },
  "language_info": {
   "codemirror_mode": {
    "name": "ipython",
    "version": 3
   },
   "file_extension": ".py",
   "mimetype": "text/x-python",
   "name": "python",
   "nbconvert_exporter": "python",
   "pygments_lexer": "ipython3",
   "version": "3.12.4"
  }
 },
 "nbformat": 4,
 "nbformat_minor": 5
}
